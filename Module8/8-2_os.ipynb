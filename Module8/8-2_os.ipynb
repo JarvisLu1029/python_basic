{
 "cells": [
  {
   "cell_type": "code",
   "execution_count": null,
   "metadata": {},
   "outputs": [],
   "source": [
    "# 匯入套件\n",
    "\n",
    "\n",
    "# 檔案路徑\n",
    "\n",
    "\n",
    "# 如果指定路徑的檔案存在，則執行刪除\n",
    "\n",
    "\n"
   ]
  }
 ],
 "metadata": {
  "language_info": {
   "name": "python"
  }
 },
 "nbformat": 4,
 "nbformat_minor": 2
}
