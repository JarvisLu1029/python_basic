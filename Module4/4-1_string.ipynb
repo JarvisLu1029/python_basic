{
 "cells": [
  {
   "cell_type": "markdown",
   "metadata": {},
   "source": [
    "|string方法| 功能 |\n",
    "|:---:|:---:|\n",
    "| | 替換字串 |\n",
    "| | 去除兩側空格 |\n",
    "| | 字串小寫變大寫 |\n",
    "| | 字串大寫變小寫 |"
   ]
  },
  {
   "cell_type": "code",
   "execution_count": null,
   "metadata": {},
   "outputs": [],
   "source": [
    "# 字串變數初始化\n",
    "\n"
   ]
  },
  {
   "cell_type": "code",
   "execution_count": null,
   "metadata": {},
   "outputs": [],
   "source": [
    "# 替換字串\n",
    "'''\n",
    "\n",
    "將 string 中的 str1 替換成 str2\n",
    "'''\n",
    "\n"
   ]
  },
  {
   "cell_type": "code",
   "execution_count": null,
   "metadata": {},
   "outputs": [],
   "source": [
    "# 去除兩側空格\n",
    "'''\n",
    "\n",
    "去除字串 string 左、右兩邊的空格\n",
    "'''\n",
    "\n"
   ]
  },
  {
   "cell_type": "code",
   "execution_count": null,
   "metadata": {},
   "outputs": [],
   "source": [
    "# 字串小寫變大寫\n",
    "'''\n",
    "\n",
    "將字串 string 裡的字母全部改成小寫\n",
    "'''\n",
    "\n",
    "\n",
    "\n",
    "'''\n",
    "\n",
    "將字串 string 裡的字母全部改成大寫\n",
    "'''\n"
   ]
  },
  {
   "cell_type": "code",
   "execution_count": null,
   "metadata": {},
   "outputs": [],
   "source": [
    "# 字串分割成 list\n",
    "greeting = \"hello world! hello John\"\n"
   ]
  }
 ],
 "metadata": {
  "language_info": {
   "name": "python"
  }
 },
 "nbformat": 4,
 "nbformat_minor": 2
}
