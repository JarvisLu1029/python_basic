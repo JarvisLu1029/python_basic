{
 "cells": [
  {
   "cell_type": "code",
   "execution_count": 2,
   "metadata": {},
   "outputs": [
    {
     "name": "stdout",
     "output_type": "stream",
     "text": [
      "{'apple': {'price': 100, 'quantity': 50, 'color': ['greem', 'red']}, 'orange': {'price': 50, 'quantity': 30, 'color': 'orange'}}\n"
     ]
    }
   ],
   "source": [
    "fruit_dict = {    \n",
    "    'apple': {\n",
    "        'price': 100,\n",
    "        'quantity': 50,\n",
    "        'color': ['greem', 'red']\n",
    "    },\n",
    "    'orange': {\n",
    "        'price': 50,\n",
    "        'quantity': 30,\n",
    "        'color': 'orange' # 錯誤的寫法\n",
    "    }\n",
    "}\n",
    "print(fruit_dict)"
   ]
  },
  {
   "cell_type": "code",
   "execution_count": 3,
   "metadata": {},
   "outputs": [],
   "source": [
    "# 使用 for 迴圈讀取 dict 資料1 \n"
   ]
  },
  {
   "cell_type": "code",
   "execution_count": 4,
   "metadata": {},
   "outputs": [],
   "source": [
    "# 使用 for 迴圈讀取 dict 資料2\n"
   ]
  },
  {
   "cell_type": "code",
   "execution_count": 5,
   "metadata": {},
   "outputs": [],
   "source": [
    "# 使用 for 迴圈讀取 dict 資料3\n"
   ]
  },
  {
   "cell_type": "code",
   "execution_count": 6,
   "metadata": {},
   "outputs": [],
   "source": [
    "# 取得 dict 的 value\n"
   ]
  },
  {
   "cell_type": "code",
   "execution_count": 14,
   "metadata": {},
   "outputs": [],
   "source": [
    "# 資料處理\n",
    "fruit_color_list = [\n",
    "    {'apple': 'red'}, \n",
    "    {'grape': 'purple'}, \n",
    "    {'kiwi': 'yellow'}, \n",
    "    {'apple': 'green'}, \n",
    "    {'kiwi': 'green'}, \n",
    "    {'grape': 'green'}]\n"
   ]
  },
  {
   "cell_type": "code",
   "execution_count": 15,
   "metadata": {},
   "outputs": [],
   "source": [
    "# 將資料整理成 {'apple': ['red', 'green'], 'grape': ['purple', 'green'], 'kiwi': ['yellow', 'green']}\n",
    "\n"
   ]
  },
  {
   "cell_type": "markdown",
   "metadata": {},
   "source": [
    "##### `defaultdict(<type>)`"
   ]
  },
  {
   "cell_type": "code",
   "execution_count": 13,
   "metadata": {},
   "outputs": [],
   "source": [
    "# 當訪問的鍵不存在時，可以自動創建鍵和預設值，而不是拋出KeyError。\n",
    "\n",
    "\n",
    "# 以int型態的預設值 0 來初始化\n",
    "\n"
   ]
  },
  {
   "cell_type": "code",
   "execution_count": 10,
   "metadata": {},
   "outputs": [
    {
     "name": "stdout",
     "output_type": "stream",
     "text": [
      "defaultdict(<class 'list'>, {'apple': ['red', 'green'], 'grape': ['purple', 'green'], 'kiwi': ['yellow', 'green']})\n"
     ]
    }
   ],
   "source": [
    "from collections import defaultdict\n",
    "\n",
    "color_dict = defaultdict(list)\n",
    "\n",
    "for fruit_dict in fruit_color_list:\n",
    "    for fruit, color in fruit_dict.items():\n",
    "        color_dict[fruit].append(color)\n",
    "\n",
    "print(color_dict)"
   ]
  },
  {
   "cell_type": "code",
   "execution_count": 16,
   "metadata": {},
   "outputs": [
    {
     "name": "stdout",
     "output_type": "stream",
     "text": [
      "{'apple': {'price': 50, 'color': ['red', 'green']}, 'grape': {'price': 200, 'color': ['purple', 'green']}, 'kiwi': {'price': 30, 'color': ['yellow', 'green']}}\n"
     ]
    }
   ],
   "source": [
    "fruit_color_list = [\n",
    "    {'apple': 'red'}, \n",
    "    {'grape': 'purple'}, \n",
    "    {'kiwi': 'yellow'}, \n",
    "    {'apple': 'green'}, \n",
    "    {'kiwi': 'green'}, \n",
    "    {'grape': 'green'}]\n",
    "\n",
    "fruit_price_dict = {\n",
    "    'apple': 50,\n",
    "    'grape': 200,\n",
    "    'kiwi': 30\n",
    "}\n",
    "\n",
    "main_dict = {}\n",
    "\n",
    "# for key, value in fruit_price_dict.items():\n",
    "#     main_dict[key] = {'price': value}\n",
    "\n",
    "# 加入顏色信息\n",
    "for fruit_dict in fruit_color_list:\n",
    "    for fruit, color in fruit_dict.items():\n",
    "        # if main_dict[fruit].get('color') == None:\n",
    "        #     main_dict[fruit]['color'] = [color]\n",
    "        # else:\n",
    "        #     main_dict[fruit]['color'].append(color) \n",
    "\n",
    "        if fruit not in main_dict:\n",
    "            main_dict[fruit] = {'price': 0, 'color': [color]}\n",
    "        elif color not in main_dict[fruit]['color']:\n",
    "            main_dict[fruit]['color'].append(color)\n",
    "\n",
    "# 加入價格信息\n",
    "for fruit, price in fruit_price_dict.items():\n",
    "    if fruit in main_dict:\n",
    "        main_dict[fruit]['price'] = price\n",
    "\n",
    "# 結果\n",
    "print(main_dict)"
   ]
  },
  {
   "cell_type": "code",
   "execution_count": null,
   "metadata": {},
   "outputs": [],
   "source": [
    "main_dict = {}\n",
    "\n",
    "for key, value in fruit_price_dict.items():\n",
    "    main_dict[key] = {'price': value}\n",
    "\n",
    "# 加入顏色信息\n",
    "for fruit_dict in fruit_color_list:\n",
    "    for fruit, color in fruit_dict.items():\n",
    "        if main_dict[fruit].get('color') == None:\n",
    "            main_dict[fruit]['color'] = [color]\n",
    "        else:\n",
    "            main_dict[fruit]['color'].append(color) "
   ]
  },
  {
   "cell_type": "code",
   "execution_count": null,
   "metadata": {},
   "outputs": [
    {
     "name": "stdout",
     "output_type": "stream",
     "text": [
      "{'color': []}\n"
     ]
    }
   ],
   "source": [
    "my_defaultdict2 = defaultdict(lambda:{'color': []})  # 以int型態的預設值0來初始化\n",
    "print(my_defaultdict2[1])"
   ]
  }
 ],
 "metadata": {
  "kernelspec": {
   "display_name": "Python 3",
   "language": "python",
   "name": "python3"
  },
  "language_info": {
   "codemirror_mode": {
    "name": "ipython",
    "version": 3
   },
   "file_extension": ".py",
   "mimetype": "text/x-python",
   "name": "python",
   "nbconvert_exporter": "python",
   "pygments_lexer": "ipython3",
   "version": "3.9.13"
  }
 },
 "nbformat": 4,
 "nbformat_minor": 2
}
